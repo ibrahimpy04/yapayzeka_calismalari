{
  "nbformat": 4,
  "nbformat_minor": 0,
  "metadata": {
    "colab": {
      "provenance": []
    },
    "kernelspec": {
      "name": "python3",
      "display_name": "Python 3"
    },
    "language_info": {
      "name": "python"
    }
  },
  "cells": [
    {
      "cell_type": "markdown",
      "source": [
        "03.10.2024 - İGÜ MYO BİLGİSAYAR TEKNOLOJİSİ PROGRAMI YAPAY ZEKA DERSİ İLK KODLAMA ÇIKTISI"
      ],
      "metadata": {
        "id": "tLNKzAvMYIQC"
      }
    },
    {
      "cell_type": "code",
      "execution_count": 1,
      "metadata": {
        "colab": {
          "base_uri": "https://localhost:8080/"
        },
        "id": "wydY2Ps0XQh2",
        "outputId": "a0dfc69d-347a-4f0a-b8f4-b082c5477718"
      },
      "outputs": [
        {
          "output_type": "stream",
          "name": "stdout",
          "text": [
            "Merhaba İGÜ MYO YZ DERSİ\n"
          ]
        }
      ],
      "source": [
        "print(\"Merhaba İGÜ MYO YZ DERSİ\") # YAPAY ZEKA DERSİ"
      ]
    },
    {
      "cell_type": "code",
      "source": [
        "import sys # import python programlama dilinde yazılıma kütüphane eklemeye yarayan komuttur\n",
        "print(sys.version)"
      ],
      "metadata": {
        "colab": {
          "base_uri": "https://localhost:8080/"
        },
        "id": "kTAkawTwjkyb",
        "outputId": "fcfbaf76-f93d-40af-8138-bde87b47176b"
      },
      "execution_count": 2,
      "outputs": [
        {
          "output_type": "stream",
          "name": "stdout",
          "text": [
            "3.10.12 (main, Sep 11 2024, 15:47:36) [GCC 11.4.0]\n"
          ]
        }
      ]
    },
    {
      "cell_type": "code",
      "source": [
        "from google.colab import drive # google colab - drive bağlantısı\n",
        "drive.mount('/content/drive')"
      ],
      "metadata": {
        "colab": {
          "base_uri": "https://localhost:8080/"
        },
        "id": "Lvf8IGj7k6_I",
        "outputId": "be09fbc5-f6d9-4d50-98a8-cf8b44eef4ff"
      },
      "execution_count": 3,
      "outputs": [
        {
          "output_type": "stream",
          "name": "stdout",
          "text": [
            "Mounted at /content/drive\n"
          ]
        }
      ]
    },
    {
      "cell_type": "code",
      "source": [
        "import os\n",
        "os.chdir('/content/drive/My Drive/YapayZekaDersi')\n",
        "!pwd # bize kodun çıktısını dosya yolu olarak veren kod blogudur"
      ],
      "metadata": {
        "colab": {
          "base_uri": "https://localhost:8080/"
        },
        "id": "QWXGE_xald64",
        "outputId": "c2214420-e0a7-493f-afd1-1a69d01b0a26"
      },
      "execution_count": 4,
      "outputs": [
        {
          "output_type": "stream",
          "name": "stdout",
          "text": [
            "/content/drive/My Drive/YapayZekaDersi\n"
          ]
        }
      ]
    }
  ]
}